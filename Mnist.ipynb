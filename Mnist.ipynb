{
  "nbformat": 4,
  "nbformat_minor": 0,
  "metadata": {
    "colab": {
      "name": "Mnist.ipynb",
      "provenance": [],
      "authorship_tag": "ABX9TyOaiMtb6tryS/NhaIeeECxQ",
      "include_colab_link": true
    },
    "kernelspec": {
      "name": "python3",
      "display_name": "Python 3"
    }
  },
  "cells": [
    {
      "cell_type": "markdown",
      "metadata": {
        "id": "view-in-github",
        "colab_type": "text"
      },
      "source": [
        "<a href=\"https://colab.research.google.com/github/kanna-0143/minor-project1/blob/master/Mnist.ipynb\" target=\"_parent\"><img src=\"https://colab.research.google.com/assets/colab-badge.svg\" alt=\"Open In Colab\"/></a>"
      ]
    },
    {
      "cell_type": "code",
      "metadata": {
        "id": "ssa5glEl3gpH",
        "colab_type": "code",
        "colab": {
          "base_uri": "https://localhost:8080/",
          "height": 36
        },
        "outputId": "766e3836-f339-40d9-e654-ad64596b6e58"
      },
      "source": [
        "import tensorflow as tf\n",
        "tf. __version__\n",
        "\n",
        "\n"
      ],
      "execution_count": null,
      "outputs": [
        {
          "output_type": "execute_result",
          "data": {
            "application/vnd.google.colaboratory.intrinsic+json": {
              "type": "string"
            },
            "text/plain": [
              "'2.3.0'"
            ]
          },
          "metadata": {
            "tags": []
          },
          "execution_count": 1
        }
      ]
    },
    {
      "cell_type": "markdown",
      "metadata": {
        "id": "DIH5y5YWdjxj",
        "colab_type": "text"
      },
      "source": [
        "![image.png](data:image/png;base64,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)"
      ]
    },
    {
      "cell_type": "code",
      "metadata": {
        "id": "DtBuKkPuehkS",
        "colab_type": "code",
        "colab": {
          "base_uri": "https://localhost:8080/",
          "height": 52
        },
        "outputId": "8a3e34e3-91bd-433b-c15c-a57ebc9a8b12"
      },
      "source": [
        "fashion = tf.keras.datasets.mnist\n",
        "(X_train,Y_train),(X_test,Y_test) = fashion.load_data()"
      ],
      "execution_count": null,
      "outputs": [
        {
          "output_type": "stream",
          "text": [
            "Downloading data from https://storage.googleapis.com/tensorflow/tf-keras-datasets/mnist.npz\n",
            "11493376/11490434 [==============================] - 0s 0us/step\n"
          ],
          "name": "stdout"
        }
      ]
    },
    {
      "cell_type": "code",
      "metadata": {
        "id": "kSMyTLAjhrYO",
        "colab_type": "code",
        "colab": {}
      },
      "source": [
        "model = tf.keras.models.Sequential()\n",
        "model.add(tf.keras.layers.Flatten(input_shape=(28,28,1))),\n",
        "model.add(tf.keras.layers.Dense(128,activation='relu')),\n",
        "model.add(tf.keras.layers.Dense(10,activation='softmax'))"
      ],
      "execution_count": null,
      "outputs": []
    },
    {
      "cell_type": "code",
      "metadata": {
        "id": "oWh8NKrTAuJn",
        "colab_type": "code",
        "colab": {}
      },
      "source": [
        "model.compile(optimizer='adam',loss = 'sparse_categorical_crossentropy',metrics = 'accuracy')"
      ],
      "execution_count": null,
      "outputs": []
    },
    {
      "cell_type": "code",
      "metadata": {
        "id": "1hygrREnnMch",
        "colab_type": "code",
        "colab": {
          "base_uri": "https://localhost:8080/",
          "height": 230
        },
        "outputId": "ce04104d-be64-448d-bdbc-429a904ff17c"
      },
      "source": [
        "history = model.fit(X_train,Y_train,epochs = 6)"
      ],
      "execution_count": null,
      "outputs": [
        {
          "output_type": "stream",
          "text": [
            "Epoch 1/6\n",
            "1875/1875 [==============================] - 3s 2ms/step - loss: 2.5202 - accuracy: 0.8486\n",
            "Epoch 2/6\n",
            "1875/1875 [==============================] - 3s 2ms/step - loss: 0.4004 - accuracy: 0.9083\n",
            "Epoch 3/6\n",
            "1875/1875 [==============================] - 3s 2ms/step - loss: 0.2878 - accuracy: 0.9300\n",
            "Epoch 4/6\n",
            "1875/1875 [==============================] - 3s 2ms/step - loss: 0.2570 - accuracy: 0.9370\n",
            "Epoch 5/6\n",
            "1875/1875 [==============================] - 3s 2ms/step - loss: 0.2293 - accuracy: 0.9426\n",
            "Epoch 6/6\n",
            "1875/1875 [==============================] - 3s 2ms/step - loss: 0.2143 - accuracy: 0.9466\n"
          ],
          "name": "stdout"
        }
      ]
    },
    {
      "cell_type": "code",
      "metadata": {
        "id": "GXnUz18srCFo",
        "colab_type": "code",
        "colab": {
          "base_uri": "https://localhost:8080/",
          "height": 108
        },
        "outputId": "95944336-329f-4456-fdbd-b1d4f4323fc4"
      },
      "source": [
        "y_pred = model.predict_classes(X_test)\n",
        "y_pred"
      ],
      "execution_count": null,
      "outputs": [
        {
          "output_type": "stream",
          "text": [
            "WARNING:tensorflow:From <ipython-input-6-5398495920a8>:1: Sequential.predict_classes (from tensorflow.python.keras.engine.sequential) is deprecated and will be removed after 2021-01-01.\n",
            "Instructions for updating:\n",
            "Please use instead:* `np.argmax(model.predict(x), axis=-1)`,   if your model does multi-class classification   (e.g. if it uses a `softmax` last-layer activation).* `(model.predict(x) > 0.5).astype(\"int32\")`,   if your model does binary classification   (e.g. if it uses a `sigmoid` last-layer activation).\n"
          ],
          "name": "stdout"
        },
        {
          "output_type": "execute_result",
          "data": {
            "text/plain": [
              "array([7, 2, 1, ..., 4, 5, 6])"
            ]
          },
          "metadata": {
            "tags": []
          },
          "execution_count": 6
        }
      ]
    },
    {
      "cell_type": "code",
      "metadata": {
        "id": "R2SeaW59sdOs",
        "colab_type": "code",
        "colab": {
          "base_uri": "https://localhost:8080/",
          "height": 35
        },
        "outputId": "b4c64f0c-87eb-43ac-e726-5fae9a1c742f"
      },
      "source": [
        "y_pred[3]"
      ],
      "execution_count": null,
      "outputs": [
        {
          "output_type": "execute_result",
          "data": {
            "text/plain": [
              "0"
            ]
          },
          "metadata": {
            "tags": []
          },
          "execution_count": 7
        }
      ]
    },
    {
      "cell_type": "code",
      "metadata": {
        "id": "5ZRny0fTsoHw",
        "colab_type": "code",
        "colab": {}
      },
      "source": [
        "# Evaluation\n",
        "from sklearn.metrics import accuracy_score,confusion_matrix"
      ],
      "execution_count": null,
      "outputs": []
    },
    {
      "cell_type": "code",
      "metadata": {
        "id": "ZsC9d_XxyQu6",
        "colab_type": "code",
        "colab": {
          "base_uri": "https://localhost:8080/",
          "height": 35
        },
        "outputId": "203fa330-f3b2-4d37-d65c-d92b444ae01c"
      },
      "source": [
        "accuracy_score(y_pred,Y_test)"
      ],
      "execution_count": null,
      "outputs": [
        {
          "output_type": "execute_result",
          "data": {
            "text/plain": [
              "0.9408"
            ]
          },
          "metadata": {
            "tags": []
          },
          "execution_count": 9
        }
      ]
    },
    {
      "cell_type": "code",
      "metadata": {
        "id": "ds3cS6fGzAQq",
        "colab_type": "code",
        "colab": {
          "base_uri": "https://localhost:8080/",
          "height": 195
        },
        "outputId": "07c50c68-f63d-4320-8668-b447294a8ee1"
      },
      "source": [
        "confusion_matrix(y_pred,Y_test)"
      ],
      "execution_count": null,
      "outputs": [
        {
          "output_type": "execute_result",
          "data": {
            "text/plain": [
              "array([[ 940,    0,    3,    0,    0,    1,    3,    0,    0,    4],\n",
              "       [   0, 1108,    2,    2,    2,    0,    2,    3,    0,    5],\n",
              "       [   0,    3,  924,    8,    4,    1,    0,   14,    4,    0],\n",
              "       [   2,    1,   29,  945,    0,   14,    0,    7,   11,    6],\n",
              "       [   1,    0,    6,    0,  919,    0,    5,    2,   10,   44],\n",
              "       [   3,    1,    4,   23,    3,  846,   15,    0,   17,    2],\n",
              "       [  13,    2,    4,    0,    7,   10,  924,    0,   10,    1],\n",
              "       [   6,    0,   12,    6,    4,    5,    0,  990,    3,   19],\n",
              "       [  15,   20,   47,   25,   13,   14,    9,    5,  917,   33],\n",
              "       [   0,    0,    1,    1,   30,    1,    0,    7,    2,  895]])"
            ]
          },
          "metadata": {
            "tags": []
          },
          "execution_count": 10
        }
      ]
    },
    {
      "cell_type": "code",
      "metadata": {
        "id": "6SQhv2EizyNB",
        "colab_type": "code",
        "colab": {}
      },
      "source": [
        "import matplotlib.pyplot as plt\n"
      ],
      "execution_count": null,
      "outputs": []
    },
    {
      "cell_type": "code",
      "metadata": {
        "id": "PoAnyxEz0Tk4",
        "colab_type": "code",
        "colab": {
          "base_uri": "https://localhost:8080/",
          "height": 283
        },
        "outputId": "74e48a0e-eb60-4950-a1ff-8cc0954aab92"
      },
      "source": [
        "plt.plot(history.history['accuracy'])"
      ],
      "execution_count": null,
      "outputs": [
        {
          "output_type": "execute_result",
          "data": {
            "text/plain": [
              "[<matplotlib.lines.Line2D at 0x7ff7f4b5cfd0>]"
            ]
          },
          "metadata": {
            "tags": []
          },
          "execution_count": 12
        },
        {
          "output_type": "display_data",
          "data": {
            "image/png": "[encoded data removed]",
            "text/plain": [
              "<Figure size 432x288 with 1 Axes>"
            ]
          },
          "metadata": {
            "tags": [],
            "needs_background": "light"
          }
        }
      ]
    },
    {
      "cell_type": "code",
      "metadata": {
        "id": "rKpcHHQn0pbI",
        "colab_type": "code",
        "colab": {
          "base_uri": "https://localhost:8080/",
          "height": 995
        },
        "outputId": "d126b543-0b8c-4240-f172-415be8317233"
      },
      "source": [
        "model.get_weights()"
      ],
      "execution_count": null,
      "outputs": [
        {
          "output_type": "execute_result",
          "data": {
            "text/plain": [
              "[array([[-0.01896178, -0.04182308, -0.01371178, ...,  0.01207675,\n",
              "          0.02699544,  0.04276852],\n",
              "        [ 0.0348675 , -0.0333955 ,  0.04767782, ..., -0.0397111 ,\n",
              "         -0.04489179,  0.05939595],\n",
              "        [ 0.03157219, -0.00370996, -0.02647758, ..., -0.00396168,\n",
              "         -0.03318599, -0.01779003],\n",
              "        ...,\n",
              "        [ 0.0609559 , -0.06349775,  0.06837248, ...,  0.01272224,\n",
              "         -0.01257763,  0.07945748],\n",
              "        [-0.02409925,  0.07104143, -0.01398043, ..., -0.03828272,\n",
              "         -0.00997362, -0.02438471],\n",
              "        [-0.01547454,  0.03855719,  0.04308057, ..., -0.0683208 ,\n",
              "         -0.03251302, -0.04334081]], dtype=float32),\n",
              " array([-0.03449378, -0.09248184, -0.03196883, -0.13752928, -0.0533753 ,\n",
              "        -0.06352258, -0.02951647, -0.05007666, -0.05996759, -0.10975187,\n",
              "        -0.0551165 , -0.00023701,  0.07416052, -0.08199672, -0.03335799,\n",
              "        -0.03420055, -0.05329194, -0.02909919, -0.02875342, -0.0552072 ,\n",
              "        -0.0623412 , -0.01615721, -0.02056196, -0.08211923, -0.10694854,\n",
              "        -0.02363119, -0.02824807, -0.02857887, -0.03551367, -0.02108096,\n",
              "        -0.07934427, -0.06272548, -0.01645431, -0.04970231, -0.02820943,\n",
              "        -0.05764985, -0.00864914, -0.04067459, -0.1816201 , -0.06716255,\n",
              "        -0.04146989, -0.01701334, -0.05445385, -0.02182178, -0.06447325,\n",
              "        -0.02207554, -0.02284098,  0.00558197, -0.16354312, -0.03042795,\n",
              "        -0.02194113, -0.1133355 , -0.03382884, -0.04156496, -0.03583154,\n",
              "        -0.06684656, -0.02298529, -0.03261429, -0.03129983, -0.01956431,\n",
              "        -0.03312813, -0.02334436, -0.08002924, -0.04730788,  0.09421309,\n",
              "        -0.05262706, -0.12604414, -0.0597407 , -0.1931201 , -0.08456235,\n",
              "        -0.06768218, -0.06030324, -0.0571933 , -0.03784204, -0.05340894,\n",
              "        -0.01940918, -0.02204602, -0.05686359, -0.08048385, -0.0247286 ,\n",
              "        -0.13949646, -0.04721706, -0.03005829, -0.06452743, -0.02706944,\n",
              "        -0.04809824, -0.00870315, -0.12796684, -0.02081233, -0.02235982,\n",
              "        -0.06172459, -0.05432882, -0.06252895, -0.04613985, -0.07406426,\n",
              "        -0.03958801, -0.03575046, -0.03959811, -0.02051724, -0.0791075 ,\n",
              "        -0.0329621 , -0.03706226, -0.02127418, -0.06638927, -0.01527921,\n",
              "        -0.11562151, -0.03159942, -0.09767058, -0.08956081, -0.03933758,\n",
              "        -0.06827934, -0.07433873,  0.02103163, -0.03569935, -0.0281255 ,\n",
              "        -0.03168602, -0.04871703, -0.09809059, -0.04400828, -0.05929055,\n",
              "        -0.03758452, -0.02719368, -0.04563069, -0.04567236, -0.1236257 ,\n",
              "        -0.04960215, -0.09488379, -0.01928229], dtype=float32),\n",
              " array([[ 0.01167016,  0.04638233,  0.12453131, ..., -0.05933273,\n",
              "         -0.12842049,  0.12394033],\n",
              "        [ 0.10618807, -0.09189357,  0.11628962, ...,  0.03679585,\n",
              "         -0.0488941 , -0.15063211],\n",
              "        [ 0.1112989 ,  0.06139646,  0.11490399, ...,  0.09901201,\n",
              "         -0.11833112, -0.06885282],\n",
              "        ...,\n",
              "        [-0.17206344, -0.05614726,  0.02030962, ..., -0.11739197,\n",
              "         -0.01509419, -0.06215224],\n",
              "        [ 0.01087001, -0.0468829 ,  0.01768741, ..., -0.03787469,\n",
              "          0.00715854, -0.0038634 ],\n",
              "        [ 0.14926872,  0.13075258,  0.19029374, ..., -0.07787266,\n",
              "          0.17810893,  0.06114743]], dtype=float32),\n",
              " array([ 0.33478162, -0.64939445, -0.04689579, -0.05868547, -0.20521213,\n",
              "        -0.29021665, -0.56918716, -0.7559322 ,  1.3371181 ,  0.11459742],\n",
              "       dtype=float32)]"
            ]
          },
          "metadata": {
            "tags": []
          },
          "execution_count": 13
        }
      ]
    },
    {
      "cell_type": "code",
      "metadata": {
        "id": "axisJ102vSp-",
        "colab_type": "code",
        "colab": {}
      },
      "source": [
        "model.save('mnist.h5')\n",
        "\n"
      ],
      "execution_count": null,
      "outputs": []
    }
  ]
}